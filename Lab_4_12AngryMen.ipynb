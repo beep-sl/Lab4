{
  "cells": [
    {
      "cell_type": "markdown",
      "metadata": {
        "id": "Tnq20FdR6P00"
      },
      "source": [
        "Codes needed for reading the files and preparing them for language model generation"
      ]
    },
    {
      "cell_type": "code",
      "execution_count": 21,
      "metadata": {
        "colab": {
          "base_uri": "https://localhost:8080/"
        },
        "id": "Mmx7uy3RfDMm",
        "outputId": "c4afb0ab-929f-49c2-9b10-a8556a26764d"
      },
      "outputs": [
        {
          "name": "stderr",
          "output_type": "stream",
          "text": [
            "[nltk_data] Downloading package punkt to\n",
            "[nltk_data]     /Users/stephenlanna/nltk_data...\n",
            "[nltk_data]   Package punkt is already up-to-date!\n"
          ]
        }
      ],
      "source": [
        "from io import FileIO\n",
        "import re\n",
        "from collections import Counter\n",
        "import nltk\n",
        "from nltk.tokenize import RegexpTokenizer\n",
        "from nltk.tokenize import word_tokenize\n",
        "nltk.download('punkt')\n",
        "\n",
        "\n",
        "def extact_sentences(file_path):\n",
        "  # file_path:path to the trascript file \n",
        "  remove = re.compile(\"[\\[\\(].*?[\\]\\)]|particular attention to juror NO\\. 8\")\n",
        "  replace = re.compile(\"FOREMAN:\")\n",
        "  juror_line = re.compile(\"NO\\.\\s?(\\d+):\\s+(.+?)(?=NO\\. \\d+|$)\")\n",
        "\n",
        "  # key: Jury value: sentence said\n",
        "  dictionary_lines = {}\n",
        "  with open(file_path, 'r', encoding=\"unicode_escape\") as file:\n",
        "    line = file.readline()\n",
        "    while(line):\n",
        "      line = re.sub(remove, \"\", line)\n",
        "      line = re.sub(replace, 'NO. 1:', line)\n",
        "      matched_text = re.search(juror_line, line)\n",
        "      if matched_text:\n",
        "        if matched_text.group(1) in dictionary_lines:\n",
        "          dictionary_lines[matched_text.group(1)].append(matched_text.group(2))\n",
        "        else:\n",
        "          dictionary_lines[matched_text.group(1)] = [matched_text.group(2)]\n",
        "      line = file.readline()\n",
        "\n",
        "  # Remove the intro description of each juror before Act 1\n",
        "  # No. 10 is formatted without a : \n",
        "  for juror in dictionary_lines:\n",
        "    if juror != '10':\n",
        "      del dictionary_lines[juror][:1]\n",
        "  return dictionary_lines\n",
        "\n",
        "def pre_process_inputs(dictionary_lines):\n",
        "  from collections import Counter\n",
        "  # This method takes in the dictionary from previous method\n",
        "  # It will return two dictionaries: one having all the tokens along\n",
        "  # with their frequencies (list to counter?)\n",
        "  # The other dictionary will have jury as the key (e.g., NO.2)\n",
        "  # and the values are another dictionary of {token: frequency} for each jury\n",
        "  \n",
        "  lst_all_words = []\n",
        "  dictionary_juror_words = {}\n",
        "  for jury in dictionary_lines:\n",
        "    lst_sentences_by_jury = dictionary_lines[jury]\n",
        "    words_juror = []\n",
        "    for sentence in lst_sentences_by_jury:\n",
        "      tokenizer = RegexpTokenizer(r'\\w+')\n",
        "      sentence_words = tokenizer.tokenize(sentence)\n",
        "      for tok in sentence_words:\n",
        "        words_juror.append(tok.lower())\n",
        "        lst_all_words.append(tok.lower())\n",
        "    dictionary_juror_words[jury] = dict(Counter(words_juror)) \n",
        "\n",
        "  vocabulary = dict(Counter(lst_all_words))\n",
        "  return vocabulary, dictionary_juror_words"
      ]
    },
    {
      "cell_type": "markdown",
      "metadata": {
        "id": "7Fm5qb1K6VVT"
      },
      "source": [
        "Code to generate languge model"
      ]
    },
    {
      "cell_type": "code",
      "execution_count": 22,
      "metadata": {
        "id": "GuzmtTCDfY-p"
      },
      "outputs": [],
      "source": [
        "from collections import Counter\n",
        "\n",
        "def unigram_lm(dic_vocabulary, dic_juror_words):\n",
        "  # This method will generate the unigram language model for each juror\n",
        "  # The return value is a dict with juror as key and value as his language model\n",
        "  # the inputs are the two dictionaries from pre_process_inputs method\n",
        "  dic_unigram_lm = {}\n",
        "\n",
        "  for jury in dic_juror_words:\n",
        "    dic_words_frequency = dic_juror_words[jury]\n",
        "    language_model = {key: 0 for key in dic_vocabulary}\n",
        "    # Here you will calculate the probabilities with MLE and add-one smoothing\n",
        "    for key in language_model:\n",
        "      if key in dic_words_frequency:\n",
        "        nom = dic_words_frequency[key] + 1\n",
        "        denom = dic_vocabulary[key] + 1 * len(dic_vocabulary)\n",
        "        language_model[key] = nom/denom\n",
        "    dic_unigram_lm[jury] = language_model\n",
        "  return dic_unigram_lm"
      ]
    },
    {
      "cell_type": "markdown",
      "metadata": {
        "id": "uCWp1nNQ6auL"
      },
      "source": [
        "Code to generate T-SNE plot"
      ]
    },
    {
      "cell_type": "code",
      "execution_count": 96,
      "metadata": {
        "id": "hhI1F1QQ6eDS"
      },
      "outputs": [],
      "source": [
        "from sklearn.manifold import TSNE\n",
        "import numpy as np\n",
        "import matplotlib.pyplot as plt\n",
        "import numpy as np\n",
        "\n",
        "\n",
        "def tsne_generator(dic_unigram_lm):\n",
        "  tsne = TSNE(n_components=2)\n",
        "  lst_freq = []\n",
        "  lst_names = []\n",
        "  for juror in dic_unigram_lm:\n",
        "    juror_name = \"Juror #\"\n",
        "    juror_name += juror\n",
        "    lst_names.append(juror_name)\n",
        "    \n",
        "    # frequencies is a dictionary of token: frequencies\n",
        "    # sort this by key and then convert values to the list and append it \n",
        "    # to the lst_freq\n",
        "    frequencies = dic_unigram_lm[juror]\n",
        "    ##### \n",
        "    # Your code goes here and then remove freq=[0] and instead of [0]\n",
        "    # save your results in freq\n",
        "\n",
        "    # Sort frequencies\n",
        "    sorted_frequencies = sorted(frequencies.items(), key=lambda x:x[1], reverse=True)\n",
        "    \n",
        "    # Return to a dictionary\n",
        "    sorted_dict = dict(sorted_frequencies)\n",
        "    \n",
        "    # Get the values\n",
        "    freq = list(sorted_dict.values())\n",
        "    lst_freq.append(freq)\n",
        "  \n",
        "  #print(\"lst_freq:\",len(lst_freq))\n",
        "  \n",
        "  # Convert the list to a NumPy array\n",
        "  np_array = np.array(lst_freq)\n",
        "  data = np_array\n",
        "\n",
        "  # getting vectors with tsne\n",
        "  vectors = tsne.fit_transform(data)\n",
        "\n",
        "  x = []\n",
        "  y = []\n",
        "\n",
        "  # x and y values\n",
        "  for vector in vectors:\n",
        "    x.append(vector[0])\n",
        "    y.append(vector[1])\n",
        "\n",
        "  plt.figure(figsize=(16,16))\n",
        "  for i in range(len(x)):\n",
        "    plt.scatter(x[i],y[i])\n",
        "    plt.annotate(lst_names[i],\n",
        "                 xy=(x[i], y[i]),\n",
        "                 xytext=(5, 2),\n",
        "                 textcoords='offset points',\n",
        "                 ha='right',\n",
        "                 va='bottom')\n",
        "\n",
        "  # Your code for plot goes here\n",
        "  #fig, ax = plt.subplots()\n",
        "  # Some codes here to define what to be shown\n",
        "  ####\n",
        "  # making sure the legend is shown (uncomment)\n",
        "  #ax.legend(bbox_to_anchor=(1.1, 1.05))\n",
        "  #ax.grid(True)\n",
        "  plt.show()"
      ]
    },
    {
      "cell_type": "markdown",
      "metadata": {},
      "source": [
        "# Step 3: Build unigram model for each jury member"
      ]
    },
    {
      "cell_type": "code",
      "execution_count": 27,
      "metadata": {
        "colab": {
          "base_uri": "https://localhost:8080/"
        },
        "id": "ITe_Ctc5o-50",
        "outputId": "790e081e-1566-4ce4-806f-fe9b2fa87d88"
      },
      "outputs": [],
      "source": [
        "path = r\"/Users/stephenlanna/Documents/NLP/12AngryMen (1).txt\"\n",
        "\n",
        "dictionary_lines = extact_sentences(path)\n",
        "\n",
        "#for juror in dictionary_lines:\n",
        "  #print(\"Juror No.\", juror, \" Lines: \", len(dictionary_lines[juror]))\n",
        "\n",
        "vocabulary, dictionary_juror_words = pre_process_inputs(dictionary_lines)\n",
        "\n",
        "#print(\"Vocabulary: \", vocabulary)\n",
        "#print(\"Juror_words\", dictionary_juror_words)\n",
        "language_models = unigram_lm(vocabulary, dictionary_juror_words)\n",
        "#for juror in language_models:\n",
        "#  print(\"Juror No.\", juror, \" Probability of word: \", language_models[juror])"
      ]
    },
    {
      "cell_type": "markdown",
      "metadata": {},
      "source": [
        "# Step 4"
      ]
    },
    {
      "cell_type": "code",
      "execution_count": 97,
      "metadata": {},
      "outputs": [
        {
          "data": {
            "image/png": "[encoded data removed]",
            "text/plain": [
              "<Figure size 1152x1152 with 1 Axes>"
            ]
          },
          "metadata": {
            "needs_background": "light"
          },
          "output_type": "display_data"
        }
      ],
      "source": [
        "tsne_generator(language_models)"
      ]
    }
  ],
  "metadata": {
    "colab": {
      "provenance": []
    },
    "kernelspec": {
      "display_name": "Python 3",
      "language": "python",
      "name": "python3"
    },
    "language_info": {
      "codemirror_mode": {
        "name": "ipython",
        "version": 3
      },
      "file_extension": ".py",
      "mimetype": "text/x-python",
      "name": "python",
      "nbconvert_exporter": "python",
      "pygments_lexer": "ipython3",
      "version": "3.9.6"
    },
    "vscode": {
      "interpreter": {
        "hash": "aee8b7b246df8f9039afb4144a1f6fd8d2ca17a180786b69acc140d282b71a49"
      }
    }
  },
  "nbformat": 4,
  "nbformat_minor": 0
}
